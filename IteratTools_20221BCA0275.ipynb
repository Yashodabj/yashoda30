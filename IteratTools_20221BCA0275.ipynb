{
  "nbformat": 4,
  "nbformat_minor": 0,
  "metadata": {
    "colab": {
      "provenance": [],
      "include_colab_link": true
    },
    "kernelspec": {
      "name": "python3",
      "display_name": "Python 3"
    },
    "language_info": {
      "name": "python"
    }
  },
  "cells": [
    {
      "cell_type": "markdown",
      "metadata": {
        "id": "view-in-github",
        "colab_type": "text"
      },
      "source": [
        "<a href=\"https://colab.research.google.com/github/Yashodabj/yashoda30/blob/main/IteratTools_20221BCA0275.ipynb\" target=\"_parent\"><img src=\"https://colab.research.google.com/assets/colab-badge.svg\" alt=\"Open In Colab\"/></a>"
      ]
    },
    {
      "cell_type": "markdown",
      "source": [
        "## ***The IterTools module***\n",
        "The itertools module contains a number of commonly used iterators as well as functions for combining several iterators.\n",
        "\n",
        "The module’s functions fall into a few broad classes:\n",
        "•\tFunctions that create a new iterator based on an existing iterator.\n",
        "\n",
        "•\tFunctions for treating an iterator’s elements as function arguments.\n",
        "\n",
        "•\tFunctions for selecting portions of an iterator’s output.\n",
        "\n",
        "•\tA function for grouping an iterator’s output"
      ],
      "metadata": {
        "id": "SwSt3Ps560qI"
      }
    },
    {
      "cell_type": "markdown",
      "source": [
        "# ***Creating New Iterators***"
      ],
      "metadata": {
        "id": "RVgVV1H76Bzq"
      }
    },
    {
      "cell_type": "markdown",
      "source": [
        "***1.count*** : itertools.count(start, step) returns an infinite stream of evenly spaced values. You can optionally supply the starting number, which defaults to 0, and the interval between numbers, which defaults to 1"
      ],
      "metadata": {
        "id": "9UBr_xWm7jYM"
      }
    },
    {
      "cell_type": "code",
      "source": [
        "from itertools import count1\n",
        "\n",
        "for number in count1(start=1, step=2):\n",
        "\tif number > 20:\n",
        "\t\tbreak\n",
        "\tprint(number) # print statement\n"
      ],
      "metadata": {
        "colab": {
          "base_uri": "https://localhost:8080/"
        },
        "id": "C9fI0kC97nAH",
        "outputId": "a0afaff6-be23-48a4-9e41-84ae4a5eb725"
      },
      "execution_count": null,
      "outputs": [
        {
          "output_type": "stream",
          "name": "stdout",
          "text": [
            "1\n",
            "3\n",
            "5\n",
            "7\n",
            "9\n"
          ]
        }
      ]
    },
    {
      "cell_type": "markdown",
      "source": [
        "Different types of iterators provided by this module are:\n",
        "\n",
        "# Infinite iterators\n",
        "\n",
        "# Combinatoric iterators\n",
        "\n",
        "# Terminating iterators"
      ],
      "metadata": {
        "id": "UbDVt6Nu91Ov"
      }
    },
    {
      "cell_type": "markdown",
      "source": [
        "## ***Infinite Iterators***\n",
        "Iterator in Python is any Python type that can be used with a ‘for in loop’. Python lists, tuples, dictionaries, and sets are all examples of inbuilt iterators.\n",
        "But it is not necessary that an iterator object has to exhaust, sometimes it can be infinite. Such types of iterators are known as Infinite iterators"
      ],
      "metadata": {
        "id": "Izj-cmwS-i9a"
      }
    },
    {
      "cell_type": "markdown",
      "source": [
        "Python provides three types of infinite iterators:\n",
        "\n",
        "1***. count(start, step):*** This iterator starts printing from the “start” number and prints infinitely. If steps are mentioned, the numbers are skipped else step is 1 by default. See the below example for its use with for in loop."
      ],
      "metadata": {
        "id": "ebPxelB7-tDZ"
      }
    },
    {
      "cell_type": "code",
      "source": [
        "# Python program to demonstrate\n",
        "# infinite iterators\n",
        "\n",
        "import itertools\n",
        "\n",
        "# for in loop\n",
        "for i in itertools.count(5, 2):\n",
        "\tif i == 35:\n",
        "\t\tbreak\n",
        "\telse:\n",
        "\t\tprint(i, end=\" \")\n"
      ],
      "metadata": {
        "colab": {
          "base_uri": "https://localhost:8080/"
        },
        "id": "A25V5XOh_aZ8",
        "outputId": "3ad04d18-668d-4de4-f3ff-e0293e2797d1"
      },
      "execution_count": 1,
      "outputs": [
        {
          "output_type": "stream",
          "name": "stdout",
          "text": [
            "5 7 9 11 13 15 17 19 21 23 25 27 29 31 33 "
          ]
        }
      ]
    },
    {
      "cell_type": "markdown",
      "source": [
        "# ***2. cycle(iterable):*** This iterator prints all values in order from the passed container. It restarts printing from the beginning again when all elements are printed in a cyclic manner."
      ],
      "metadata": {
        "id": "Mu41PZnE_1hl"
      }
    },
    {
      "cell_type": "code",
      "source": [
        "# Python program to demonstrate\n",
        "# infinite iterators\n",
        "\n",
        "import itertools\n",
        "\n",
        "count = 0\n",
        "\n",
        "# for in loop\n",
        "for i in itertools.cycle('CD'):\n",
        "\tif count > 7:\n",
        "\t\tbreak\n",
        "\telse:\n",
        "\t\tprint(i, end=\" \")\n",
        "\t\tcount += 1\n"
      ],
      "metadata": {
        "colab": {
          "base_uri": "https://localhost:8080/"
        },
        "id": "aywZ7-a2_66j",
        "outputId": "300548d1-6325-48c0-fc21-c624f4f7c0c8"
      },
      "execution_count": 2,
      "outputs": [
        {
          "output_type": "stream",
          "name": "stdout",
          "text": [
            "C D C D C D C D "
          ]
        }
      ]
    },
    {
      "cell_type": "code",
      "source": [
        "#Using the next function\n",
        "# Python program to demonstrate\n",
        "# infinite iterators\n",
        "\n",
        "import itertools\n",
        "\n",
        "l = ['BCA', 'CSE', 'EEE']\n",
        "\n",
        "# defining iterator\n",
        "iterators = itertools.cycle(l)\n",
        "\n",
        "# for in loop\n",
        "for i in range(5):\n",
        "\n",
        "\t# Using next function\n",
        "\tprint(next(iterators), end=\" \")\n"
      ],
      "metadata": {
        "colab": {
          "base_uri": "https://localhost:8080/"
        },
        "id": "nPsUu6Tr-B5E",
        "outputId": "4e6250b3-63ad-492a-86b8-630fdc8da65d"
      },
      "execution_count": 3,
      "outputs": [
        {
          "output_type": "stream",
          "name": "stdout",
          "text": [
            "BCA CSE EEE BCA CSE "
          ]
        }
      ]
    },
    {
      "cell_type": "code",
      "source": [
        "#repeat(val, num):\n",
        "# Python code to demonstrate the working of\n",
        "# repeat()\n",
        "\n",
        "# importing \"itertools\" for iterator operations\n",
        "import itertools\n",
        "\n",
        "# using repeat() to repeatedly print number\n",
        "print(\"Printing the numbers repeatedly : \")\n",
        "print(list(itertools.repeat(22, 5)))\n"
      ],
      "metadata": {
        "colab": {
          "base_uri": "https://localhost:8080/"
        },
        "id": "RMRn2PiHAnMH",
        "outputId": "287a8d55-4590-4a9a-ea51-65dffe09dafe"
      },
      "execution_count": 4,
      "outputs": [
        {
          "output_type": "stream",
          "name": "stdout",
          "text": [
            "Printing the numbers repeatedly : \n",
            "[22, 22, 22, 22, 22]\n"
          ]
        }
      ]
    },
    {
      "cell_type": "markdown",
      "source": [
        "# ***2. Combinatoric iterators***\n",
        "\n",
        "The recursive generators that are used to simplify combinatorial constructs such as permutations, combinations, and Cartesian products are called combinatoric iterators.\n",
        "\n",
        "Product():\n",
        "\n",
        "Permutations()\n",
        "\n",
        "Combinations():\n",
        "\n",
        "Combinations_with_replacement():"
      ],
      "metadata": {
        "id": "iGqFnSqdAZ8O"
      }
    },
    {
      "cell_type": "markdown",
      "source": [
        "# ***Product(): ***\n",
        "\n",
        "This tool computes the cartesian product of input iterables. To compute the product of an iterable with itself, we use the optional repeat keyword argument to specify the number of repetitions. The output of this function is tuples in sorted order."
      ],
      "metadata": {
        "id": "s4dR6s9dJmXh"
      }
    },
    {
      "cell_type": "code",
      "source": [
        "# import the product function from itertools module\n",
        "from itertools import product\n",
        "\n",
        "print(\"The cartesian product using repeat:\")\n",
        "print(list(product([1, 6], repeat=3)))\n",
        "print()\n",
        "\n",
        "print(\"The cartesian product of the containers:\")\n",
        "print(list(product(['COM', 'CSE', 'BBA'], '2')))\n",
        "print()\n",
        "\n",
        "print(\"The cartesian product of the containers:\")\n",
        "print(list(product('AB', [4, 4])))\n"
      ],
      "metadata": {
        "colab": {
          "base_uri": "https://localhost:8080/"
        },
        "id": "2nGgcZ-x9S5D",
        "outputId": "539afddf-009f-4095-89f6-40c282942230"
      },
      "execution_count": 5,
      "outputs": [
        {
          "output_type": "stream",
          "name": "stdout",
          "text": [
            "The cartesian product using repeat:\n",
            "[(1, 1, 1), (1, 1, 6), (1, 6, 1), (1, 6, 6), (6, 1, 1), (6, 1, 6), (6, 6, 1), (6, 6, 6)]\n",
            "\n",
            "The cartesian product of the containers:\n",
            "[('COM', '2'), ('CSE', '2'), ('BBA', '2')]\n",
            "\n",
            "The cartesian product of the containers:\n",
            "[('A', 4), ('A', 4), ('B', 4), ('B', 4)]\n"
          ]
        }
      ]
    },
    {
      "cell_type": "markdown",
      "source": [
        "# ***Permutations():***\n",
        " Permutations() as the name speaks for itself is used to generate all possible permutations of an iterable. All elements are treated as unique based on their position and not their values. This function takes an iterable and group_size, if the value of group_size is not specified or is equal to None then the value of group_size becomes the length of the iterable."
      ],
      "metadata": {
        "id": "YnZ9QwqCKBWp"
      }
    },
    {
      "cell_type": "code",
      "source": [
        "# import the product function from itertools module\n",
        "from itertools import permutations\n",
        "\n",
        "print(\"All the permutations of the given list is:\")\n",
        "print(list(permutations([1, 'Computer'], 2)))\n",
        "print()\n",
        "\n",
        "print(\"All the permutations of the given string is:\")\n",
        "print(list(permutations('XY')))\n",
        "print()\n",
        "\n",
        "print(\"All the permutations of the given container is:\")\n",
        "print(list(permutations(range(4), 2)))\n"
      ],
      "metadata": {
        "colab": {
          "base_uri": "https://localhost:8080/"
        },
        "id": "0ta1eX-uKLqy",
        "outputId": "bf5e6f1a-9f5a-4bca-c71c-7463f2455fed"
      },
      "execution_count": 6,
      "outputs": [
        {
          "output_type": "stream",
          "name": "stdout",
          "text": [
            "All the permutations of the given list is:\n",
            "[(1, 'Computer'), ('Computer', 1)]\n",
            "\n",
            "All the permutations of the given string is:\n",
            "[('X', 'Y'), ('Y', 'X')]\n",
            "\n",
            "All the permutations of the given container is:\n",
            "[(0, 1), (0, 2), (0, 3), (1, 0), (1, 2), (1, 3), (2, 0), (2, 1), (2, 3), (3, 0), (3, 1), (3, 2)]\n"
          ]
        }
      ]
    },
    {
      "cell_type": "markdown",
      "source": [
        "# ***Combinations(): ***\n",
        "This iterator prints all the possible combinations(without replacement) of the container passed in arguments in the specified group size in sorted order."
      ],
      "metadata": {
        "id": "d4BWUluEKQ1j"
      }
    },
    {
      "cell_type": "code",
      "source": [
        "# import combinations from itertools module\n",
        "\n",
        "from itertools import combinations\n",
        "\n",
        "print (\"All the combination of list in sorted order(without replacement) is:\")\n",
        "print(list(combinations(['X', 2], 2)))\n",
        "print()\n",
        "\n",
        "print (\"All the combination of string in sorted order(without replacement) is:\")\n",
        "print(list(combinations('XY', 2)))\n",
        "print()\n",
        "\n",
        "print (\"All the combination of list in sorted order(without replacement) is:\")\n",
        "print(list(combinations(range(5), 1)))\n"
      ],
      "metadata": {
        "colab": {
          "base_uri": "https://localhost:8080/"
        },
        "id": "gu4J75DCKkj3",
        "outputId": "df3e77ed-8355-41b8-d635-91f2ff341c10"
      },
      "execution_count": 7,
      "outputs": [
        {
          "output_type": "stream",
          "name": "stdout",
          "text": [
            "All the combination of list in sorted order(without replacement) is:\n",
            "[('X', 2)]\n",
            "\n",
            "All the combination of string in sorted order(without replacement) is:\n",
            "[('X', 'Y')]\n",
            "\n",
            "All the combination of list in sorted order(without replacement) is:\n",
            "[(0,), (1,), (2,), (3,), (4,)]\n"
          ]
        }
      ]
    },
    {
      "cell_type": "code",
      "source": [],
      "metadata": {
        "id": "NLi3zEhbN8Qu"
      },
      "execution_count": null,
      "outputs": []
    },
    {
      "cell_type": "markdown",
      "source": [
        "# ***Combinations_with_replacement(): ***\n",
        "This function returns a subsequence of length n from the elements of the iterable where n is the argument that the function takes determining the length of the subsequences generated by the function. Individual elements may repeat itself in combinations_with_replacement function"
      ],
      "metadata": {
        "id": "G3AqONVnKv7R"
      }
    },
    {
      "cell_type": "code",
      "source": [
        "# import combinations from itertools module\n",
        "\n",
        "from itertools import combinations_with_replacement\n",
        "\n",
        "print(\"All the combination of string in sorted order(with replacement) is:\")\n",
        "print(list(combinations_with_replacement(\"AB\", 3)))\n",
        "print()\n",
        "\n",
        "print(\"All the combination of list in sorted order(with replacement) is:\")\n",
        "print(list(combinations_with_replacement([2, 2], 3)))\n",
        "print()\n",
        "\n",
        "print(\"All the combination of container in sorted order(with replacement) is:\")\n",
        "print(list(combinations_with_replacement(range(2), 1)))\n"
      ],
      "metadata": {
        "colab": {
          "base_uri": "https://localhost:8080/"
        },
        "id": "Xw_TrManK2Hr",
        "outputId": "3e5c93b9-07f8-40ae-c3ff-24a3da46fcf5"
      },
      "execution_count": 8,
      "outputs": [
        {
          "output_type": "stream",
          "name": "stdout",
          "text": [
            "All the combination of string in sorted order(with replacement) is:\n",
            "[('A', 'A', 'A'), ('A', 'A', 'B'), ('A', 'B', 'B'), ('B', 'B', 'B')]\n",
            "\n",
            "All the combination of list in sorted order(with replacement) is:\n",
            "[(2, 2, 2), (2, 2, 2), (2, 2, 2), (2, 2, 2)]\n",
            "\n",
            "All the combination of container in sorted order(with replacement) is:\n",
            "[(0,), (1,)]\n"
          ]
        }
      ]
    },
    {
      "cell_type": "markdown",
      "source": [
        "# **Terminating iterators**\n",
        "Terminating iterators are used to work on the short input sequences and produce the output based on the functionality of the method used.\n",
        "\n",
        "Different types of terminating iterators are:\n",
        "\n",
        "1.***accumulate(iter, func)***: This iterator takes two arguments, iterable target and the function which would be followed at each iteration of value in target. If no function is passed, addition takes place by default. If the input iterable is empty, the output iterable will also be empty"
      ],
      "metadata": {
        "id": "TrH-Y1ifLMOq"
      }
    },
    {
      "cell_type": "code",
      "source": [
        "# Python code to demonstrate the working of\n",
        "# accumulate()\n",
        "\n",
        "\n",
        "import itertools\n",
        "import operator\n",
        "\n",
        "# initializing list 1\n",
        "li1 = [2, 6, 4, 5]\n",
        "\n",
        "# using accumulate()\n",
        "# prints the successive summation of elements\n",
        "print(\"The sum after each iteration is : \", end=\"\")\n",
        "print(list(itertools.accumulate(li1)))\n",
        "\n",
        "# using accumulate()\n",
        "# prints the successive multiplication of elements\n",
        "print(\"The product after each iteration is : \", end=\"\")\n",
        "print(list(itertools.accumulate(li1, operator.mul)))\n",
        "\n",
        "# using accumulate()\n",
        "# prints the successive summation of elements\n",
        "print(\"The sum after each iteration is : \", end=\"\")\n",
        "print(list(itertools.accumulate(li1)))\n",
        "\n",
        "# using accumulate()\n",
        "# prints the successive multiplication of elements\n",
        "print(\"The product after each iteration is : \", end=\"\")\n",
        "print(list(itertools.accumulate(li1, operator.mul)))\n"
      ],
      "metadata": {
        "colab": {
          "base_uri": "https://localhost:8080/"
        },
        "id": "K0WnqwnkSah9",
        "outputId": "780c2bb3-02b4-429a-fb37-8dded8de1322"
      },
      "execution_count": 9,
      "outputs": [
        {
          "output_type": "stream",
          "name": "stdout",
          "text": [
            "The sum after each iteration is : [2, 8, 12, 17]\n",
            "The product after each iteration is : [2, 12, 48, 240]\n",
            "The sum after each iteration is : [2, 8, 12, 17]\n",
            "The product after each iteration is : [2, 12, 48, 240]\n"
          ]
        }
      ]
    },
    {
      "cell_type": "markdown",
      "source": [
        "## 2.**chain(iter1, iter2..):** This function is used to print all the values in iterable targets one after another mentioned in its arguments. *italicized text*"
      ],
      "metadata": {
        "id": "LGbCR19HSpMk"
      }
    },
    {
      "cell_type": "code",
      "source": [
        "# Python code to demonstrate the working of\n",
        "# and chain()\n",
        "\n",
        "\n",
        "import itertools\n",
        "\n",
        "# initializing list 1\n",
        "li1 = [1, 2, 4, 7]\n",
        "\n",
        "# initializing list 2\n",
        "li2 = [1, 3, 5, 9]\n",
        "\n",
        "# initializing list 3\n",
        "li3 = [8, 10, 5, 4]\n",
        "\n",
        "# using chain() to print all elements of lists\n",
        "print(\"All values in mentioned chain are : \", end=\"\")\n",
        "print(list(itertools.chain(li1, li2, li3)))\n"
      ],
      "metadata": {
        "colab": {
          "base_uri": "https://localhost:8080/"
        },
        "id": "39B3b2eOStQ6",
        "outputId": "3930a30f-ec6c-4644-a986-a26781d99720"
      },
      "execution_count": 10,
      "outputs": [
        {
          "output_type": "stream",
          "name": "stdout",
          "text": [
            "All values in mentioned chain are : [1, 2, 4, 7, 1, 3, 5, 9, 8, 10, 5, 4]\n"
          ]
        }
      ]
    },
    {
      "cell_type": "markdown",
      "source": [
        "# 3.***chain.from_iterable():*** This function is implemented similarly as a chain() but the argument here is a list of lists or any other iterable container."
      ],
      "metadata": {
        "id": "p1AD7ny7S4FN"
      }
    },
    {
      "cell_type": "code",
      "source": [
        "# Python code to demonstrate the working of\n",
        "# chain.from_iterable()\n",
        "\n",
        "\n",
        "import itertools\n",
        "\n",
        "\n",
        "# initializing list 1\n",
        "li1 = [1, 5, 6, 7]\n",
        "\n",
        "# initializing list 2\n",
        "li2 = [1, 8, 5, 9]\n",
        "\n",
        "# initializing list 3\n",
        "li3 = [8, 10, 5, 4]\n",
        "\n",
        "# initializing list of list\n",
        "li4 = [li1, li2, li3]\n",
        "\n",
        "# using chain.from_iterable() to print all elements of lists\n",
        "print (\"All values in mentioned chain are : \", end =\"\")\n",
        "print (list(itertools.chain.from_iterable(li4)))\n"
      ],
      "metadata": {
        "colab": {
          "base_uri": "https://localhost:8080/"
        },
        "id": "hYyQbTeOS-Gz",
        "outputId": "9a1f42d2-71d6-41c1-98ad-237dcafce787"
      },
      "execution_count": 11,
      "outputs": [
        {
          "output_type": "stream",
          "name": "stdout",
          "text": [
            "All values in mentioned chain are : [1, 5, 6, 7, 1, 8, 5, 9, 8, 10, 5, 4]\n"
          ]
        }
      ]
    },
    {
      "cell_type": "markdown",
      "source": [
        "# 4. ***compress(iter, selector):*** This iterator selectively picks the values to print from the passed container according to the boolean list value passed as other arguments. The arguments corresponding to boolean true are printed else all are skipped."
      ],
      "metadata": {
        "id": "Xrxu4J0ETIJV"
      }
    },
    {
      "cell_type": "code",
      "source": [
        "# Python code to demonstrate the working of\n",
        "# and compress()\n",
        "\n",
        "\n",
        "import itertools\n",
        "\n",
        "\n",
        "# using compress() selectively print data values\n",
        "print(\"The compressed values in string are : \", end=\"\")\n",
        "print(list(itertools.compress('UMARKHED', [\n",
        "\t1, 0, 0, 0, 0, 1, 0, 0, 1, 0, 0, 0, 0])))\n"
      ],
      "metadata": {
        "colab": {
          "base_uri": "https://localhost:8080/"
        },
        "id": "GxWCXO5zTLyo",
        "outputId": "d76e5953-0683-45ce-df33-2faa9bc63910"
      },
      "execution_count": 12,
      "outputs": [
        {
          "output_type": "stream",
          "name": "stdout",
          "text": [
            "The compressed values in string are : ['U', 'H']\n"
          ]
        }
      ]
    },
    {
      "cell_type": "markdown",
      "source": [
        "5.***dropwhile(func, seq):*** This iterator starts printing the characters only after the func. in argument returns false for the first time."
      ],
      "metadata": {
        "id": "Upp6_F8bTYHs"
      }
    },
    {
      "cell_type": "code",
      "source": [
        "# Python code to demonstrate the working of\n",
        "# dropwhile()\n",
        "\n",
        "\n",
        "import itertools\n",
        "\n",
        "\n",
        "# initializing list\n",
        "li = [1, 4, 8, 7, 10]\n",
        "\n",
        "# using dropwhile() to start displaying after condition is false\n",
        "print (\"The values after condition returns false : \", end =\"\")\n",
        "print (list(itertools.dropwhile(lambda x : x % 2 == 0, li)))\n"
      ],
      "metadata": {
        "colab": {
          "base_uri": "https://localhost:8080/"
        },
        "id": "qvlGnVeIToHI",
        "outputId": "998210fe-6ae1-43e9-a6e5-04b199643616"
      },
      "execution_count": 13,
      "outputs": [
        {
          "output_type": "stream",
          "name": "stdout",
          "text": [
            "The values after condition returns false : [1, 4, 8, 7, 10]\n"
          ]
        }
      ]
    },
    {
      "cell_type": "markdown",
      "source": [
        "6. # ***dropwhile(func, seq):*** This iterator starts printing the characters only after the func. in argument returns false for the first time."
      ],
      "metadata": {
        "id": "ywPiCFfITtlE"
      }
    },
    {
      "cell_type": "code",
      "source": [
        "# Python code to demonstrate the working of\n",
        "# dropwhile()\n",
        "\n",
        "\n",
        "import itertools\n",
        "\n",
        "\n",
        "# initializing list\n",
        "li = [2, 4, 5, 7, 8]\n",
        "\n",
        "# using dropwhile() to start displaying after condition is false\n",
        "print (\"The values after condition returns false : \", end =\"\")\n",
        "print (list(itertools.dropwhile(lambda x : x % 2 == 0, li)))\n"
      ],
      "metadata": {
        "colab": {
          "base_uri": "https://localhost:8080/"
        },
        "id": "CyyijrN1TyS4",
        "outputId": "7f747a1c-547f-4400-e740-fbdb47a9c847"
      },
      "execution_count": null,
      "outputs": [
        {
          "output_type": "stream",
          "name": "stdout",
          "text": [
            "The values after condition returns false : [5, 7, 8]\n"
          ]
        }
      ]
    },
    {
      "cell_type": "markdown",
      "source": [
        "##7.  ***filterfalse(func, seq):*** As the name suggests, this iterator prints only values that return false for the passed function"
      ],
      "metadata": {
        "id": "lJU7ykYtUAcE"
      }
    },
    {
      "cell_type": "code",
      "source": [
        "# Python code to demonstrate the working of\n",
        "# filterfalse()\n",
        "\n",
        "\n",
        "import itertools\n",
        "\n",
        "# initializing list\n",
        "li = [1,3,4,2,5]\n",
        "\n",
        "# using filterfalse() to print false values\n",
        "print (\"The values that return false to function are : \", end =\"\")\n",
        "print (list(itertools.filterfalse(lambda x : x % 2 == 0, li)))\n"
      ],
      "metadata": {
        "colab": {
          "base_uri": "https://localhost:8080/"
        },
        "id": "D4DAPO8MTeGt",
        "outputId": "3f9d28e2-9c0c-47c5-a630-36911db2fc5d"
      },
      "execution_count": 14,
      "outputs": [
        {
          "output_type": "stream",
          "name": "stdout",
          "text": [
            "The values that return false to function are : [1, 3, 5]\n"
          ]
        }
      ]
    },
    {
      "cell_type": "markdown",
      "source": [
        "# 8.***islice(iterable, start, stop, step):***\n",
        "This iterator selectively prints the values mentioned in its iterable container passed as argument. This iterator takes 4 arguments, iterable container, starting pos., ending position and step"
      ],
      "metadata": {
        "id": "Tmv-KWBvUO5n"
      }
    },
    {
      "cell_type": "code",
      "source": [
        "# Python code to demonstrate the working of\n",
        "# islice()\n",
        "\n",
        "\n",
        "import itertools\n",
        "\n",
        "# initializing list\n",
        "li = [2, 4, 5, 5,6,7,1,22,3,1,4]\n",
        "\n",
        "# using islice() to slice the list acc. to need\n",
        "# starts printing from 2nd index till 6th skipping 2\n",
        "print (\"The sliced list values are : \", end =\"\")\n",
        "print (list(itertools.islice(li, 1, 6, 2)))\n"
      ],
      "metadata": {
        "colab": {
          "base_uri": "https://localhost:8080/"
        },
        "id": "35TeqU8OUS_d",
        "outputId": "c27d20b3-7da6-4245-9dc3-dbb265a80b9d"
      },
      "execution_count": 15,
      "outputs": [
        {
          "output_type": "stream",
          "name": "stdout",
          "text": [
            "The sliced list values are : [4, 5, 7]\n"
          ]
        }
      ]
    },
    {
      "cell_type": "markdown",
      "source": [
        "# 9.***starmap(func., tuple list):***\n",
        "This iterator takes a function and tuple list as argument and returns the value according to the function from each tuple of the list."
      ],
      "metadata": {
        "id": "3iXZ8mxkVelx"
      }
    },
    {
      "cell_type": "code",
      "source": [
        "# Python code to demonstrate the working of\n",
        "# starmap()\n",
        "\n",
        "\n",
        "import itertools\n",
        "\n",
        "\n",
        "# initializing tuple list\n",
        "li = [ (1, 10, 5), (8, 4, 1), (5, 4, 9), (11, 10, 1) ]\n",
        "\n",
        "# using starmap() for selection value acc. to function\n",
        "# selects min of all tuple values\n",
        "print (\"The values acc. to function are : \", end =\"\")\n",
        "print (list(itertools.starmap(min, li)))\n"
      ],
      "metadata": {
        "colab": {
          "base_uri": "https://localhost:8080/"
        },
        "id": "QRsaZp8DVuvb",
        "outputId": "75711302-9ba9-4521-ab92-263590893eb1"
      },
      "execution_count": 16,
      "outputs": [
        {
          "output_type": "stream",
          "name": "stdout",
          "text": [
            "The values acc. to function are : [1, 1, 4, 1]\n"
          ]
        }
      ]
    },
    {
      "cell_type": "markdown",
      "source": [
        "# 10. ***takewhile(func, iterable):*** This iterator is the opposite of dropwhile(), it prints the values till the function returns false for 1st time.\n",
        "Example"
      ],
      "metadata": {
        "id": "uAaq-76hWNTI"
      }
    },
    {
      "cell_type": "code",
      "source": [
        "# Python code to demonstrate the working of\n",
        "# takewhile()\n",
        "\n",
        "\n",
        "import itertools\n",
        "\n",
        "# initializing list\n",
        "li = [2, 3,5,2,3,6,7,8,9]\n",
        "\n",
        "# using takewhile() to print values till condition is false.\n",
        "print (\"The list values till 1st false value are : \", end =\"\")\n",
        "print (list(itertools.takewhile(lambda x : x % 2 == 0, li )))\n"
      ],
      "metadata": {
        "colab": {
          "base_uri": "https://localhost:8080/"
        },
        "id": "InB7YxcRWVcq",
        "outputId": "bb17262b-f5b8-4367-8c96-ad8db756baaf"
      },
      "execution_count": 17,
      "outputs": [
        {
          "output_type": "stream",
          "name": "stdout",
          "text": [
            "The list values till 1st false value are : [2]\n"
          ]
        }
      ]
    },
    {
      "cell_type": "markdown",
      "source": [
        "##11 ***tee(iterator, count):- ***This iterator splits the container into a number of iterators mentioned in the argument."
      ],
      "metadata": {
        "id": "Akx4db0kWtV6"
      }
    },
    {
      "cell_type": "code",
      "source": [
        "# Python code to demonstrate the working of\n",
        "# tee()\n",
        "\n",
        "\n",
        "import itertools\n",
        "\n",
        "# initializing list\n",
        "li = [2, 4,10, 7, 8, 10, 20]\n",
        "\n",
        "# storing list in iterator\n",
        "iti = iter(li)\n",
        "\n",
        "# using tee() to make a list of iterators\n",
        "# makes list of 3 iterators having same values.\n",
        "it = itertools.tee(iti, 3)\n",
        "\n",
        "# printing the values of iterators\n",
        "print(\"The iterators are : \")\n",
        "for i in range(0, 3):\n",
        "\tprint(list(it[i]))\n"
      ],
      "metadata": {
        "colab": {
          "base_uri": "https://localhost:8080/"
        },
        "id": "pOXnIw-aW0vX",
        "outputId": "bfef7e8c-41df-4001-8db3-a212433e5071"
      },
      "execution_count": 19,
      "outputs": [
        {
          "output_type": "stream",
          "name": "stdout",
          "text": [
            "The iterators are : \n",
            "[2, 4, 10, 7, 8, 10, 20]\n",
            "[2, 4, 10, 7, 8, 10, 20]\n",
            "[2, 4, 10, 7, 8, 10, 20]\n"
          ]
        }
      ]
    },
    {
      "cell_type": "markdown",
      "source": [
        "#12 ***zip_longest( iterable1, iterable2, fillval):***\n",
        " This iterator prints the values of iterables alternatively in sequence. If one of the iterables is printed fully, the remaining values are filled by the values assigned to fillvalue"
      ],
      "metadata": {
        "id": "0lmDcV0FXEkV"
      }
    },
    {
      "cell_type": "code",
      "source": [
        "# Python code to demonstrate the working of\n",
        "# zip_longest()\n",
        "\n",
        "\n",
        "import itertools\n",
        "\n",
        "# using zip_longest() to combine two iterables.\n",
        "print(\"The combined values of iterables is : \")\n",
        "print(*(itertools.zip_longest('RAKSHA', 'VEDANT', fillvalue='_')))\n"
      ],
      "metadata": {
        "colab": {
          "base_uri": "https://localhost:8080/"
        },
        "id": "ngf4KJkZXcer",
        "outputId": "c6b565d7-608b-4c72-a7c7-6be027663c46"
      },
      "execution_count": 21,
      "outputs": [
        {
          "output_type": "stream",
          "name": "stdout",
          "text": [
            "The combined values of iterables is : \n",
            "('R', 'V') ('A', 'E') ('K', 'D') ('S', 'A') ('H', 'N') ('A', 'T')\n"
          ]
        }
      ]
    },
    {
      "cell_type": "code",
      "source": [],
      "metadata": {
        "id": "MQykYYjyWoHf"
      },
      "execution_count": null,
      "outputs": []
    }
  ]
}